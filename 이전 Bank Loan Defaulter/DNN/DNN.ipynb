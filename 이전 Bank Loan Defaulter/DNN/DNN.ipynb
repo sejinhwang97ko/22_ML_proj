{
 "cells": [
  {
   "cell_type": "code",
   "execution_count": 1,
   "id": "4b6d8f3c",
   "metadata": {},
   "outputs": [],
   "source": [
    "import numpy as np\n",
    "import pandas as pd\n",
    "import tensorflow as tf\n",
    "import matplotlib.pyplot as plt\n",
    "import seaborn as sns\n",
    "from keras.models import Sequential\n",
    "from keras.layers import Dense\n",
    "from sklearn.model_selection import train_test_split\n",
    "from sklearn.metrics import f1_score, confusion_matrix, classification_report\n",
    "import warnings\n",
    "warnings.filterwarnings('ignore')"
   ]
  },
  {
   "cell_type": "markdown",
   "id": "350c75c1",
   "metadata": {},
   "source": [
    "Train : Validation : Test = 6 : 2 : 2"
   ]
  },
  {
   "cell_type": "code",
   "execution_count": 2,
   "id": "642bb996",
   "metadata": {},
   "outputs": [],
   "source": [
    "data=pd.read_csv('Preprocessed_Data.csv')\n",
    "target=pd.read_csv('target.csv')\n",
    "x_train, x_test, y_train, y_test = train_test_split(data, target, test_size=0.2, random_state=2022)\n",
    "x_train, x_val, y_train, y_val = train_test_split(x_train, y_train, test_size=0.25, random_state=2022)"
   ]
  },
  {
   "cell_type": "markdown",
   "id": "101892d1",
   "metadata": {},
   "source": [
    "히든 레이어 4층, 층마다 노드 100개씩  \n",
    "activation function : 히든 레이어에선 relu, 아웃풋 레이어에선 sigmoid (이진분류)  \n",
    "loss function : binary cross entropy  \n",
    "optimizer : nadam"
   ]
  },
  {
   "cell_type": "code",
   "execution_count": 3,
   "id": "03e7b381",
   "metadata": {},
   "outputs": [
    {
     "name": "stdout",
     "output_type": "stream",
     "text": [
      "Model: \"DNN\"\n",
      "_________________________________________________________________\n",
      " Layer (type)                Output Shape              Param #   \n",
      "=================================================================\n",
      " dense (Dense)               (None, 100)               3700      \n",
      "                                                                 \n",
      " dense_1 (Dense)             (None, 100)               10100     \n",
      "                                                                 \n",
      " dense_2 (Dense)             (None, 100)               10100     \n",
      "                                                                 \n",
      " dense_3 (Dense)             (None, 100)               10100     \n",
      "                                                                 \n",
      " output (Dense)              (None, 1)                 101       \n",
      "                                                                 \n",
      "=================================================================\n",
      "Total params: 34,101\n",
      "Trainable params: 34,101\n",
      "Non-trainable params: 0\n",
      "_________________________________________________________________\n"
     ]
    }
   ],
   "source": [
    "model = Sequential(name='DNN')\n",
    "model.add(Dense(100, input_dim = 36, activation='relu'))\n",
    "model.add(Dense(100, activation='relu'))\n",
    "model.add(Dense(100, activation='relu'))\n",
    "model.add(Dense(100, activation='relu'))\n",
    "model.add(Dense(1, activation='sigmoid', name='output'))\n",
    "\n",
    "model.compile(loss='binary_crossentropy', optimizer='nadam', metrics='accuracy')\n",
    "\n",
    "model.summary()"
   ]
  },
  {
   "cell_type": "code",
   "execution_count": 4,
   "id": "b27bdfab",
   "metadata": {
    "scrolled": false
   },
   "outputs": [
    {
     "name": "stdout",
     "output_type": "stream",
     "text": [
      "Epoch 1/20\n",
      "317/317 [==============================] - 1s 2ms/step - loss: 0.3443 - accuracy: 0.9032 - val_loss: 0.3442 - val_accuracy: 0.9079\n",
      "Epoch 2/20\n",
      "317/317 [==============================] - 0s 1ms/step - loss: 0.3177 - accuracy: 0.9061 - val_loss: 0.3117 - val_accuracy: 0.9079\n",
      "Epoch 3/20\n",
      "317/317 [==============================] - 0s 1ms/step - loss: 0.3153 - accuracy: 0.9061 - val_loss: 0.3125 - val_accuracy: 0.9079\n",
      "Epoch 4/20\n",
      "317/317 [==============================] - 0s 1ms/step - loss: 0.3152 - accuracy: 0.9061 - val_loss: 0.3170 - val_accuracy: 0.9079\n",
      "Epoch 5/20\n",
      "317/317 [==============================] - 0s 1ms/step - loss: 0.3152 - accuracy: 0.9061 - val_loss: 0.3083 - val_accuracy: 0.9079\n",
      "Epoch 6/20\n",
      "317/317 [==============================] - 0s 1ms/step - loss: 0.3144 - accuracy: 0.9061 - val_loss: 0.3087 - val_accuracy: 0.9079\n",
      "Epoch 7/20\n",
      "317/317 [==============================] - 0s 1ms/step - loss: 0.3136 - accuracy: 0.9061 - val_loss: 0.3097 - val_accuracy: 0.9079\n",
      "Epoch 8/20\n",
      "317/317 [==============================] - 0s 1ms/step - loss: 0.3137 - accuracy: 0.9061 - val_loss: 0.3113 - val_accuracy: 0.9079\n",
      "Epoch 9/20\n",
      "317/317 [==============================] - 0s 1ms/step - loss: 0.3134 - accuracy: 0.9061 - val_loss: 0.3087 - val_accuracy: 0.9079\n",
      "Epoch 10/20\n",
      "317/317 [==============================] - 0s 1ms/step - loss: 0.3130 - accuracy: 0.9061 - val_loss: 0.3090 - val_accuracy: 0.9079\n",
      "Epoch 11/20\n",
      "317/317 [==============================] - 0s 1ms/step - loss: 0.3125 - accuracy: 0.9061 - val_loss: 0.3078 - val_accuracy: 0.9079\n",
      "Epoch 12/20\n",
      "317/317 [==============================] - 0s 1ms/step - loss: 0.3129 - accuracy: 0.9061 - val_loss: 0.3085 - val_accuracy: 0.9079\n",
      "Epoch 13/20\n",
      "317/317 [==============================] - 0s 1ms/step - loss: 0.3125 - accuracy: 0.9061 - val_loss: 0.3087 - val_accuracy: 0.9076\n",
      "Epoch 14/20\n",
      "317/317 [==============================] - 0s 1ms/step - loss: 0.3121 - accuracy: 0.9061 - val_loss: 0.3081 - val_accuracy: 0.9079\n",
      "Epoch 15/20\n",
      "317/317 [==============================] - 0s 1ms/step - loss: 0.3120 - accuracy: 0.9061 - val_loss: 0.3077 - val_accuracy: 0.9079\n",
      "Epoch 16/20\n",
      "317/317 [==============================] - 0s 1ms/step - loss: 0.3119 - accuracy: 0.9061 - val_loss: 0.3127 - val_accuracy: 0.9079\n",
      "Epoch 17/20\n",
      "317/317 [==============================] - 0s 1ms/step - loss: 0.3120 - accuracy: 0.9061 - val_loss: 0.3082 - val_accuracy: 0.9079\n",
      "Epoch 18/20\n",
      "317/317 [==============================] - 0s 1ms/step - loss: 0.3118 - accuracy: 0.9061 - val_loss: 0.3077 - val_accuracy: 0.9079\n",
      "Epoch 19/20\n",
      "317/317 [==============================] - 0s 1ms/step - loss: 0.3116 - accuracy: 0.9061 - val_loss: 0.3093 - val_accuracy: 0.9079\n",
      "Epoch 20/20\n",
      "317/317 [==============================] - 0s 1ms/step - loss: 0.3115 - accuracy: 0.9061 - val_loss: 0.3076 - val_accuracy: 0.9079\n"
     ]
    }
   ],
   "source": [
    "fit_model = model.fit(x_train, y_train, epochs=20, batch_size=128, validation_data=(x_val, y_val))"
   ]
  },
  {
   "cell_type": "code",
   "execution_count": 5,
   "id": "fb2d5304",
   "metadata": {},
   "outputs": [
    {
     "data": {
      "image/png": "[encoded data removed]",
      "text/plain": [
       "<Figure size 720x504 with 1 Axes>"
      ]
     },
     "metadata": {
      "needs_background": "light"
     },
     "output_type": "display_data"
    }
   ],
   "source": [
    "plt.figure(figsize=(10,7))\n",
    "plt.plot(fit_model.history['loss'], label='Train loss')\n",
    "plt.plot(fit_model.history['val_loss'], label='Validation loss')\n",
    "plt.title('Loss')\n",
    "plt.legend()\n",
    "plt.show()"
   ]
  },
  {
   "cell_type": "markdown",
   "id": "ee4776cd",
   "metadata": {},
   "source": [
    "Test 데이터 예측, 성능 평가"
   ]
  },
  {
   "cell_type": "code",
   "execution_count": 6,
   "id": "583c1a99",
   "metadata": {},
   "outputs": [
    {
     "name": "stdout",
     "output_type": "stream",
     "text": [
      "422/422 [==============================] - 0s 607us/step - loss: 0.2996 - accuracy: 0.9113\n",
      "loss : 0.2995784282684326\n",
      "accuracy : 0.9112873077392578\n"
     ]
    }
   ],
   "source": [
    "for name, value in zip(model.metrics_names, model.evaluate(x_test, y_test)):\n",
    "    print(name,':', value)"
   ]
  },
  {
   "cell_type": "code",
   "execution_count": 7,
   "id": "5800b011",
   "metadata": {},
   "outputs": [
    {
     "name": "stdout",
     "output_type": "stream",
     "text": [
      "422/422 [==============================] - 0s 512us/step\n",
      "              precision    recall  f1-score   support\n",
      "\n",
      "           0       0.91      1.00      0.95     12296\n",
      "           1       0.00      0.00      0.00      1197\n",
      "\n",
      "    accuracy                           0.91     13493\n",
      "   macro avg       0.46      0.50      0.48     13493\n",
      "weighted avg       0.83      0.91      0.87     13493\n",
      "\n"
     ]
    }
   ],
   "source": [
    "pred = model.predict(x_test)\n",
    "bin_pred = tf.round(pred).numpy().flatten()\n",
    "\n",
    "print(classification_report(y_test, bin_pred))"
   ]
  },
  {
   "cell_type": "code",
   "execution_count": 8,
   "id": "5f69a115",
   "metadata": {},
   "outputs": [
    {
     "data": {
      "text/plain": [
       "array([[12296,     0],\n",
       "       [ 1197,     0]], dtype=int64)"
      ]
     },
     "execution_count": 8,
     "metadata": {},
     "output_type": "execute_result"
    }
   ],
   "source": [
    "confusion_matrix(y_test, bin_pred)"
   ]
  },
  {
   "cell_type": "markdown",
   "id": "6c1f4d7d",
   "metadata": {},
   "source": [
    "0만 예측됨, 실제로 12296 : 1197 비율"
   ]
  },
  {
   "cell_type": "code",
   "execution_count": 9,
   "id": "1d120975",
   "metadata": {},
   "outputs": [
    {
     "data": {
      "text/plain": [
       "array([[    0., 13493.]])"
      ]
     },
     "execution_count": 9,
     "metadata": {},
     "output_type": "execute_result"
    }
   ],
   "source": [
    "unique, counts = np.unique(bin_pred, return_counts=True)\n",
    "np.column_stack((unique, counts)) # 0만 예측함"
   ]
  },
  {
   "cell_type": "code",
   "execution_count": 10,
   "id": "2bc9c168",
   "metadata": {},
   "outputs": [
    {
     "data": {
      "text/plain": [
       "Loan Status\n",
       "0              12296\n",
       "1               1197\n",
       "dtype: int64"
      ]
     },
     "execution_count": 10,
     "metadata": {},
     "output_type": "execute_result"
    }
   ],
   "source": [
    "y_test.value_counts()"
   ]
  }
 ],
 "metadata": {
  "kernelspec": {
   "display_name": "Python 3 (ipykernel)",
   "language": "python",
   "name": "python3"
  },
  "language_info": {
   "codemirror_mode": {
    "name": "ipython",
    "version": 3
   },
   "file_extension": ".py",
   "mimetype": "text/x-python",
   "name": "python",
   "nbconvert_exporter": "python",
   "pygments_lexer": "ipython3",
   "version": "3.10.4"
  }
 },
 "nbformat": 4,
 "nbformat_minor": 5
}
