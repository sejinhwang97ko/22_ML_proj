{
 "cells": [
  {
   "cell_type": "code",
   "execution_count": 3,
   "id": "e2bffd29",
   "metadata": {},
   "outputs": [],
   "source": [
    "import import_ipynb\n",
    "from preprocessing import load_data\n",
    "from lgb_model import lgb_model_init, lgb_model_tuned\n",
    "from xgb_model import xgb_model_init, xgb_model_tuned\n",
    "from cat_model import cat_model_init, cat_model_tuned\n",
    "import pandas as pd\n",
    "import sklearn.metrics as mt\n",
    "\n",
    "from sklearn.model_selection import train_test_split\n",
    "from sklearn.model_selection import StratifiedKFold\n",
    "from sklearn.model_selection import cross_val_score"
   ]
  },
  {
   "cell_type": "code",
   "execution_count": null,
   "id": "75424541",
   "metadata": {},
   "outputs": [],
   "source": [
    "\n",
    "data,target = load_data('data/Loan_Default.csv')"
   ]
  },
  {
   "cell_type": "code",
   "execution_count": null,
   "id": "e52fc601",
   "metadata": {},
   "outputs": [],
   "source": [
    "X_train,X_test,y_train,y_test = train_test_split(data,target,train_size=0.7,random_state=2022)\n",
    "\n",
    "lgb_init_score = "
   ]
  },
  {
   "cell_type": "code",
   "execution_count": null,
   "id": "2cb97050",
   "metadata": {},
   "outputs": [],
   "source": [
    "def evaluate_score(model=None,X_train=None,y_train=None,X_test=None,y_test=None):\n",
    "    "
   ]
  },
  {
   "cell_type": "code",
   "execution_count": null,
   "id": "1e5faeae",
   "metadata": {},
   "outputs": [],
   "source": [
    "def get_model(X_train=None,y_train=None):\n",
    "    "
   ]
  },
  {
   "cell_type": "code",
   "execution_count": null,
   "id": "3b0fd74e",
   "metadata": {},
   "outputs": [],
   "source": [
    "def auc_roc_score(...):\n",
    "    "
   ]
  },
  {
   "cell_type": "code",
   "execution_count": null,
   "id": "721fba3d",
   "metadata": {},
   "outputs": [],
   "source": [
    "def model_score(model=None,x_train=None,y_train=None,x_test=None,y_test=None,y_pred=None):\n",
    "    print(\"\\tTrain_Accuracy : \", model.score(x_train, y_train))\n",
    "    print(\"\\tTest_Accuracy : \", model.score(x_test, y_test), '\\n')\n",
    "\n",
    "    accuracy = mt.accuracy_score(y_test, y_pred)\n",
    "    recall = mt.recall_score(y_test, y_pred, pos_label='1')\n",
    "    precision = mt.precision_score(y_test, y_pred, pos_label='1')\n",
    "    f1_score = mt.f1_score(y_test, y_pred, pos_label='1')\n",
    "    matrix = pd.DataFrame(mt.confusion_matrix(y_test, y_pred),columns=['pred_no','pred_yes'])\n",
    "    matrix.index = ['actual_no','actual_yes']\n",
    "    \n",
    "    print('\\tAccuracy: ', format(accuracy,'.2f'),'\\n')\n",
    "    print('\\tRecall: ', format(recall,'.2f'),'\\n')\n",
    "    print('\\tPrecision: ', format(precision,'.2f'),'\\n')\n",
    "    print('\\tF1_score: ', format(f1_score,'.2f'),'\\n')\n",
    "    print('\\tConfusion Matrix:','\\n', matrix)"
   ]
  },
  {
   "cell_type": "code",
   "execution_count": null,
   "id": "63c677e1",
   "metadata": {},
   "outputs": [],
   "source": [
    "# def stratified_fold_score() ?\n",
    "\n",
    "from sklearn.model_selection import StratifiedKFold\n",
    "from sklearn.model_selection import cross_val_score\n",
    "\n",
    "lgbm_clf=LGBMClassifier()\n",
    "#stratified-kfold\n",
    "str_kfold=StratifiedKFold(n_splits=5)\n",
    "#kfold\n",
    "kfold = KFold(n_splits=5,shuffle=True,random_state=0)\n",
    "\n",
    "#cv= kfold,str_fkold\n",
    "cross_val_score(lgbm_clf,data,target,cv=str_kfold,scoring='accuracy')"
   ]
  }
 ],
 "metadata": {
  "kernelspec": {
   "display_name": "Python 3 (ipykernel)",
   "language": "python",
   "name": "python3"
  },
  "language_info": {
   "codemirror_mode": {
    "name": "ipython",
    "version": 3
   },
   "file_extension": ".py",
   "mimetype": "text/x-python",
   "name": "python",
   "nbconvert_exporter": "python",
   "pygments_lexer": "ipython3",
   "version": "3.8.13"
  }
 },
 "nbformat": 4,
 "nbformat_minor": 5
}
