{
 "cells": [
  {
   "cell_type": "code",
   "execution_count": 1,
   "id": "da977439-a29d-4e63-a1b1-8af3721197bd",
   "metadata": {},
   "outputs": [],
   "source": [
    "import pandas as pd\n",
    "import matplotlib.pyplot as plt\n",
    "from sklearn.ensemble import RandomForestClassifier\n",
    "from sklearn.model_selection import train_test_split # 학습, 테스트set 구분\n",
    "from sklearn.model_selection import cross_val_score, cross_validate\n",
    "from sklearn.metrics import accuracy_score\n",
    "from sklearn.metrics import precision_score\n",
    "from sklearn.metrics import recall_score\n",
    "from sklearn.metrics import f1_score\n",
    "from sklearn.metrics import plot_confusion_matrix\n",
    "from sklearn.metrics import balanced_accuracy_score\n",
    "from sklearn.metrics import confusion_matrix\n",
    "from sklearn.model_selection import GridSearchCV"
   ]
  },
  {
   "cell_type": "code",
   "execution_count": 2,
   "id": "1c0bcdbf-598b-4026-a758-f3db12b760e2",
   "metadata": {},
   "outputs": [
    {
     "data": {
      "text/html": [
       "<div>\n",
       "<style scoped>\n",
       "    .dataframe tbody tr th:only-of-type {\n",
       "        vertical-align: middle;\n",
       "    }\n",
       "\n",
       "    .dataframe tbody tr th {\n",
       "        vertical-align: top;\n",
       "    }\n",
       "\n",
       "    .dataframe thead th {\n",
       "        text-align: right;\n",
       "    }\n",
       "</style>\n",
       "<table border=\"1\" class=\"dataframe\">\n",
       "  <thead>\n",
       "    <tr style=\"text-align: right;\">\n",
       "      <th></th>\n",
       "      <th>loan_amount</th>\n",
       "      <th>rate_of_interest</th>\n",
       "      <th>Interest_rate_spread</th>\n",
       "      <th>Upfront_charges</th>\n",
       "      <th>term</th>\n",
       "      <th>property_value</th>\n",
       "      <th>income</th>\n",
       "      <th>Credit_Score</th>\n",
       "      <th>LTV</th>\n",
       "      <th>dtir1</th>\n",
       "      <th>...</th>\n",
       "      <th>co-applicant_credit_type_EXP</th>\n",
       "      <th>submission_of_application_not_inst</th>\n",
       "      <th>submission_of_application_to_inst</th>\n",
       "      <th>Region_North</th>\n",
       "      <th>Region_North-East</th>\n",
       "      <th>Region_central</th>\n",
       "      <th>Region_south</th>\n",
       "      <th>Security_Type_Indriect</th>\n",
       "      <th>Security_Type_direct</th>\n",
       "      <th>Status</th>\n",
       "    </tr>\n",
       "  </thead>\n",
       "  <tbody>\n",
       "    <tr>\n",
       "      <th>0</th>\n",
       "      <td>-0.750000</td>\n",
       "      <td>4.311449</td>\n",
       "      <td>0.636128</td>\n",
       "      <td>0.168877</td>\n",
       "      <td>360.0</td>\n",
       "      <td>-0.857143</td>\n",
       "      <td>-0.858974</td>\n",
       "      <td>758.0</td>\n",
       "      <td>0.974394</td>\n",
       "      <td>45.000000</td>\n",
       "      <td>...</td>\n",
       "      <td>0.0</td>\n",
       "      <td>0.0</td>\n",
       "      <td>1.0</td>\n",
       "      <td>0.0</td>\n",
       "      <td>0.0</td>\n",
       "      <td>0.0</td>\n",
       "      <td>1.0</td>\n",
       "      <td>0.0</td>\n",
       "      <td>1.0</td>\n",
       "      <td>1</td>\n",
       "    </tr>\n",
       "    <tr>\n",
       "      <th>1</th>\n",
       "      <td>-0.375000</td>\n",
       "      <td>4.719152</td>\n",
       "      <td>1.579036</td>\n",
       "      <td>-0.890382</td>\n",
       "      <td>360.0</td>\n",
       "      <td>-0.844678</td>\n",
       "      <td>-0.166667</td>\n",
       "      <td>552.0</td>\n",
       "      <td>0.741857</td>\n",
       "      <td>34.376016</td>\n",
       "      <td>...</td>\n",
       "      <td>1.0</td>\n",
       "      <td>0.0</td>\n",
       "      <td>1.0</td>\n",
       "      <td>1.0</td>\n",
       "      <td>0.0</td>\n",
       "      <td>0.0</td>\n",
       "      <td>0.0</td>\n",
       "      <td>0.0</td>\n",
       "      <td>1.0</td>\n",
       "      <td>1</td>\n",
       "    </tr>\n",
       "    <tr>\n",
       "      <th>2</th>\n",
       "      <td>0.458333</td>\n",
       "      <td>4.560000</td>\n",
       "      <td>0.200000</td>\n",
       "      <td>-0.488242</td>\n",
       "      <td>360.0</td>\n",
       "      <td>0.257143</td>\n",
       "      <td>0.794872</td>\n",
       "      <td>834.0</td>\n",
       "      <td>0.228647</td>\n",
       "      <td>46.000000</td>\n",
       "      <td>...</td>\n",
       "      <td>0.0</td>\n",
       "      <td>0.0</td>\n",
       "      <td>1.0</td>\n",
       "      <td>0.0</td>\n",
       "      <td>0.0</td>\n",
       "      <td>0.0</td>\n",
       "      <td>1.0</td>\n",
       "      <td>0.0</td>\n",
       "      <td>1.0</td>\n",
       "      <td>0</td>\n",
       "    </tr>\n",
       "    <tr>\n",
       "      <th>3</th>\n",
       "      <td>0.666667</td>\n",
       "      <td>4.250000</td>\n",
       "      <td>0.681000</td>\n",
       "      <td>-0.159712</td>\n",
       "      <td>360.0</td>\n",
       "      <td>0.685714</td>\n",
       "      <td>1.307692</td>\n",
       "      <td>587.0</td>\n",
       "      <td>-0.195575</td>\n",
       "      <td>42.000000</td>\n",
       "      <td>...</td>\n",
       "      <td>0.0</td>\n",
       "      <td>1.0</td>\n",
       "      <td>0.0</td>\n",
       "      <td>1.0</td>\n",
       "      <td>0.0</td>\n",
       "      <td>0.0</td>\n",
       "      <td>0.0</td>\n",
       "      <td>0.0</td>\n",
       "      <td>1.0</td>\n",
       "      <td>0</td>\n",
       "    </tr>\n",
       "    <tr>\n",
       "      <th>4</th>\n",
       "      <td>1.666667</td>\n",
       "      <td>4.000000</td>\n",
       "      <td>0.304200</td>\n",
       "      <td>-0.639929</td>\n",
       "      <td>360.0</td>\n",
       "      <td>0.971429</td>\n",
       "      <td>1.000000</td>\n",
       "      <td>602.0</td>\n",
       "      <td>0.701661</td>\n",
       "      <td>39.000000</td>\n",
       "      <td>...</td>\n",
       "      <td>1.0</td>\n",
       "      <td>1.0</td>\n",
       "      <td>0.0</td>\n",
       "      <td>1.0</td>\n",
       "      <td>0.0</td>\n",
       "      <td>0.0</td>\n",
       "      <td>0.0</td>\n",
       "      <td>0.0</td>\n",
       "      <td>1.0</td>\n",
       "      <td>0</td>\n",
       "    </tr>\n",
       "    <tr>\n",
       "      <th>...</th>\n",
       "      <td>...</td>\n",
       "      <td>...</td>\n",
       "      <td>...</td>\n",
       "      <td>...</td>\n",
       "      <td>...</td>\n",
       "      <td>...</td>\n",
       "      <td>...</td>\n",
       "      <td>...</td>\n",
       "      <td>...</td>\n",
       "      <td>...</td>\n",
       "      <td>...</td>\n",
       "      <td>...</td>\n",
       "      <td>...</td>\n",
       "      <td>...</td>\n",
       "      <td>...</td>\n",
       "      <td>...</td>\n",
       "      <td>...</td>\n",
       "      <td>...</td>\n",
       "      <td>...</td>\n",
       "      <td>...</td>\n",
       "      <td>...</td>\n",
       "    </tr>\n",
       "    <tr>\n",
       "      <th>143978</th>\n",
       "      <td>0.583333</td>\n",
       "      <td>3.125000</td>\n",
       "      <td>0.257100</td>\n",
       "      <td>1.899229</td>\n",
       "      <td>180.0</td>\n",
       "      <td>0.542857</td>\n",
       "      <td>0.448718</td>\n",
       "      <td>659.0</td>\n",
       "      <td>-0.099279</td>\n",
       "      <td>48.000000</td>\n",
       "      <td>...</td>\n",
       "      <td>1.0</td>\n",
       "      <td>0.0</td>\n",
       "      <td>1.0</td>\n",
       "      <td>0.0</td>\n",
       "      <td>0.0</td>\n",
       "      <td>0.0</td>\n",
       "      <td>1.0</td>\n",
       "      <td>0.0</td>\n",
       "      <td>1.0</td>\n",
       "      <td>0</td>\n",
       "    </tr>\n",
       "    <tr>\n",
       "      <th>143979</th>\n",
       "      <td>1.208333</td>\n",
       "      <td>5.190000</td>\n",
       "      <td>0.854400</td>\n",
       "      <td>-0.639929</td>\n",
       "      <td>360.0</td>\n",
       "      <td>1.057143</td>\n",
       "      <td>0.294872</td>\n",
       "      <td>569.0</td>\n",
       "      <td>0.005799</td>\n",
       "      <td>15.000000</td>\n",
       "      <td>...</td>\n",
       "      <td>0.0</td>\n",
       "      <td>1.0</td>\n",
       "      <td>0.0</td>\n",
       "      <td>0.0</td>\n",
       "      <td>0.0</td>\n",
       "      <td>0.0</td>\n",
       "      <td>1.0</td>\n",
       "      <td>0.0</td>\n",
       "      <td>1.0</td>\n",
       "      <td>0</td>\n",
       "    </tr>\n",
       "    <tr>\n",
       "      <th>143980</th>\n",
       "      <td>0.625000</td>\n",
       "      <td>3.125000</td>\n",
       "      <td>0.081600</td>\n",
       "      <td>-0.327215</td>\n",
       "      <td>180.0</td>\n",
       "      <td>0.885714</td>\n",
       "      <td>0.243590</td>\n",
       "      <td>702.0</td>\n",
       "      <td>-0.516229</td>\n",
       "      <td>49.000000</td>\n",
       "      <td>...</td>\n",
       "      <td>1.0</td>\n",
       "      <td>1.0</td>\n",
       "      <td>0.0</td>\n",
       "      <td>1.0</td>\n",
       "      <td>0.0</td>\n",
       "      <td>0.0</td>\n",
       "      <td>0.0</td>\n",
       "      <td>0.0</td>\n",
       "      <td>1.0</td>\n",
       "      <td>0</td>\n",
       "    </tr>\n",
       "    <tr>\n",
       "      <th>143981</th>\n",
       "      <td>-0.416667</td>\n",
       "      <td>3.500000</td>\n",
       "      <td>0.582400</td>\n",
       "      <td>0.462241</td>\n",
       "      <td>180.0</td>\n",
       "      <td>-0.400000</td>\n",
       "      <td>0.294872</td>\n",
       "      <td>737.0</td>\n",
       "      <td>-0.143496</td>\n",
       "      <td>29.000000</td>\n",
       "      <td>...</td>\n",
       "      <td>1.0</td>\n",
       "      <td>0.0</td>\n",
       "      <td>1.0</td>\n",
       "      <td>1.0</td>\n",
       "      <td>0.0</td>\n",
       "      <td>0.0</td>\n",
       "      <td>0.0</td>\n",
       "      <td>0.0</td>\n",
       "      <td>1.0</td>\n",
       "      <td>0</td>\n",
       "    </tr>\n",
       "    <tr>\n",
       "      <th>143982</th>\n",
       "      <td>0.458333</td>\n",
       "      <td>4.375000</td>\n",
       "      <td>1.387100</td>\n",
       "      <td>0.889684</td>\n",
       "      <td>240.0</td>\n",
       "      <td>0.400000</td>\n",
       "      <td>0.320513</td>\n",
       "      <td>830.0</td>\n",
       "      <td>-0.057158</td>\n",
       "      <td>44.000000</td>\n",
       "      <td>...</td>\n",
       "      <td>0.0</td>\n",
       "      <td>1.0</td>\n",
       "      <td>0.0</td>\n",
       "      <td>1.0</td>\n",
       "      <td>0.0</td>\n",
       "      <td>0.0</td>\n",
       "      <td>0.0</td>\n",
       "      <td>0.0</td>\n",
       "      <td>1.0</td>\n",
       "      <td>0</td>\n",
       "    </tr>\n",
       "  </tbody>\n",
       "</table>\n",
       "<p>143983 rows × 64 columns</p>\n",
       "</div>"
      ],
      "text/plain": [
       "        loan_amount  rate_of_interest  Interest_rate_spread  Upfront_charges  \\\n",
       "0         -0.750000          4.311449              0.636128         0.168877   \n",
       "1         -0.375000          4.719152              1.579036        -0.890382   \n",
       "2          0.458333          4.560000              0.200000        -0.488242   \n",
       "3          0.666667          4.250000              0.681000        -0.159712   \n",
       "4          1.666667          4.000000              0.304200        -0.639929   \n",
       "...             ...               ...                   ...              ...   \n",
       "143978     0.583333          3.125000              0.257100         1.899229   \n",
       "143979     1.208333          5.190000              0.854400        -0.639929   \n",
       "143980     0.625000          3.125000              0.081600        -0.327215   \n",
       "143981    -0.416667          3.500000              0.582400         0.462241   \n",
       "143982     0.458333          4.375000              1.387100         0.889684   \n",
       "\n",
       "         term  property_value    income  Credit_Score       LTV      dtir1  \\\n",
       "0       360.0       -0.857143 -0.858974         758.0  0.974394  45.000000   \n",
       "1       360.0       -0.844678 -0.166667         552.0  0.741857  34.376016   \n",
       "2       360.0        0.257143  0.794872         834.0  0.228647  46.000000   \n",
       "3       360.0        0.685714  1.307692         587.0 -0.195575  42.000000   \n",
       "4       360.0        0.971429  1.000000         602.0  0.701661  39.000000   \n",
       "...       ...             ...       ...           ...       ...        ...   \n",
       "143978  180.0        0.542857  0.448718         659.0 -0.099279  48.000000   \n",
       "143979  360.0        1.057143  0.294872         569.0  0.005799  15.000000   \n",
       "143980  180.0        0.885714  0.243590         702.0 -0.516229  49.000000   \n",
       "143981  180.0       -0.400000  0.294872         737.0 -0.143496  29.000000   \n",
       "143982  240.0        0.400000  0.320513         830.0 -0.057158  44.000000   \n",
       "\n",
       "        ...  co-applicant_credit_type_EXP  submission_of_application_not_inst  \\\n",
       "0       ...                           0.0                                 0.0   \n",
       "1       ...                           1.0                                 0.0   \n",
       "2       ...                           0.0                                 0.0   \n",
       "3       ...                           0.0                                 1.0   \n",
       "4       ...                           1.0                                 1.0   \n",
       "...     ...                           ...                                 ...   \n",
       "143978  ...                           1.0                                 0.0   \n",
       "143979  ...                           0.0                                 1.0   \n",
       "143980  ...                           1.0                                 1.0   \n",
       "143981  ...                           1.0                                 0.0   \n",
       "143982  ...                           0.0                                 1.0   \n",
       "\n",
       "        submission_of_application_to_inst  Region_North  Region_North-East  \\\n",
       "0                                     1.0           0.0                0.0   \n",
       "1                                     1.0           1.0                0.0   \n",
       "2                                     1.0           0.0                0.0   \n",
       "3                                     0.0           1.0                0.0   \n",
       "4                                     0.0           1.0                0.0   \n",
       "...                                   ...           ...                ...   \n",
       "143978                                1.0           0.0                0.0   \n",
       "143979                                0.0           0.0                0.0   \n",
       "143980                                0.0           1.0                0.0   \n",
       "143981                                1.0           1.0                0.0   \n",
       "143982                                0.0           1.0                0.0   \n",
       "\n",
       "        Region_central  Region_south  Security_Type_Indriect  \\\n",
       "0                  0.0           1.0                     0.0   \n",
       "1                  0.0           0.0                     0.0   \n",
       "2                  0.0           1.0                     0.0   \n",
       "3                  0.0           0.0                     0.0   \n",
       "4                  0.0           0.0                     0.0   \n",
       "...                ...           ...                     ...   \n",
       "143978             0.0           1.0                     0.0   \n",
       "143979             0.0           1.0                     0.0   \n",
       "143980             0.0           0.0                     0.0   \n",
       "143981             0.0           0.0                     0.0   \n",
       "143982             0.0           0.0                     0.0   \n",
       "\n",
       "        Security_Type_direct  Status  \n",
       "0                        1.0       1  \n",
       "1                        1.0       1  \n",
       "2                        1.0       0  \n",
       "3                        1.0       0  \n",
       "4                        1.0       0  \n",
       "...                      ...     ...  \n",
       "143978                   1.0       0  \n",
       "143979                   1.0       0  \n",
       "143980                   1.0       0  \n",
       "143981                   1.0       0  \n",
       "143982                   1.0       0  \n",
       "\n",
       "[143983 rows x 64 columns]"
      ]
     },
     "execution_count": 2,
     "metadata": {},
     "output_type": "execute_result"
    }
   ],
   "source": [
    "df = pd.read_csv('preprocessing2.csv', encoding = 'cp949', index_col=0 )\n",
    "df"
   ]
  },
  {
   "cell_type": "code",
   "execution_count": 3,
   "id": "2ffaa073-4885-4e36-bed2-b7a4c5d1d81d",
   "metadata": {},
   "outputs": [],
   "source": [
    "seed = 5764\n",
    "\n",
    "X=df.drop('Status',axis=1)\n",
    "Y=df['Status']\n",
    "\n",
    "# 학습, 테스트 데이터 분리 (0.7:0.3)\n",
    "x_train, x_test, y_train, y_test = train_test_split(X, Y, test_size=0.3, random_state=seed)"
   ]
  },
  {
   "cell_type": "code",
   "execution_count": 4,
   "id": "85420a7e-ce92-4008-8197-a4cba3c7d37f",
   "metadata": {},
   "outputs": [
    {
     "data": {
      "text/plain": [
       "(100788,)"
      ]
     },
     "execution_count": 4,
     "metadata": {},
     "output_type": "execute_result"
    }
   ],
   "source": [
    "y_train.shape"
   ]
  },
  {
   "cell_type": "code",
   "execution_count": 5,
   "id": "97cebee2-9ba9-4341-9c89-d3afe4a2ef17",
   "metadata": {},
   "outputs": [
    {
     "data": {
      "text/plain": [
       "0    76159\n",
       "1    24629\n",
       "Name: Status, dtype: int64"
      ]
     },
     "execution_count": 5,
     "metadata": {},
     "output_type": "execute_result"
    }
   ],
   "source": [
    "y_train.value_counts()"
   ]
  },
  {
   "cell_type": "code",
   "execution_count": 6,
   "id": "4589e45b-3e09-4462-a669-2fce77ad04e7",
   "metadata": {},
   "outputs": [
    {
     "data": {
      "text/plain": [
       "3.0922489747858215"
      ]
     },
     "execution_count": 6,
     "metadata": {},
     "output_type": "execute_result"
    }
   ],
   "source": [
    "#불균형 비율 보기\n",
    "y_train.value_counts().iloc[0]/y_train.value_counts().iloc[1]"
   ]
  },
  {
   "cell_type": "code",
   "execution_count": 4,
   "id": "ed0c2c5d-afc8-4648-9c5e-2b824798871c",
   "metadata": {},
   "outputs": [],
   "source": [
    "def default_model(algorithm, x_train, y_train, x_test, y_test):\n",
    "    model_1=algorithm(random_state=seed)\n",
    "    model_1.fit(x_train,y_train) #학습\n",
    "    default_trainScore = model_1.score(x_train, y_train)\n",
    "    default_testScore = model_1.score(x_test, y_test)\n",
    "    pred_1= model_1.predict(x_test)\n",
    "    print(\"학습 데이터셋 정확도: \", default_trainScore)\n",
    "    print(\"테스트 데이터셋 정확도: \", default_testScore)\n",
    "    print(\"혼돈행렬: \", confusion_matrix(y_test,pred_1))\n",
    "    print(\"Accuracy \",accuracy_score(y_test, pred_1))\n",
    "    print(\"Precision \",precision_score(y_test, pred_1))\n",
    "    print(\"Recall Score \",recall_score(y_test, pred_1))\n",
    "    print(\"F1 Score \",f1_score(y_test, pred_1))\n",
    "    print(\"Balanced Accuracy Score \",balanced_accuracy_score(y_test, pred_1))"
   ]
  },
  {
   "cell_type": "code",
   "execution_count": 5,
   "id": "2d56a630-1053-4b26-9f0f-cb77b2d8009e",
   "metadata": {},
   "outputs": [],
   "source": [
    "#하이퍼파라미터에 따른 모델 시각화 함수\n",
    "def optimal_visualization(algorithmName, x_values, train_score, test_score, xlabel):\n",
    "    plt.plot(x_values, train_score, linestyle = '-', label = 'train score')\n",
    "    plt.plot(x_values, test_score, linestyle = '--', label= 'test score')\n",
    "    plt.ylabel('Accuracy(%)')\n",
    "    plt.xlabel(xlabel)\n",
    "    plt.legend() #범례표시"
   ]
  },
  {
   "cell_type": "code",
   "execution_count": 6,
   "id": "f4425d8b-ac93-4d11-99f9-a04208c486b3",
   "metadata": {},
   "outputs": [],
   "source": [
    "#트리 개수 조정 함수 5개씩 늘려간다\n",
    "def optimal_estimator(algorithm, algorithmName, x_train, y_train, x_test, y_test, n_estimator_min, n_estimator_max):\n",
    "    train_score = []; test_score = []\n",
    "    param_tree = [n_tree*5 for n_tree in range(n_estimator_min, n_estimator_max)]\n",
    "    \n",
    "    for v_n_estimators in param_tree:\n",
    "        model=algorithm(n_estimators = v_n_estimators, random_state=seed,  n_jobs=-1)\n",
    "        model.fit(x_train,y_train)\n",
    "        train_score.append(model.score(x_train, y_train))\n",
    "        test_score.append(model.score(x_test, y_test))\n",
    "    \n",
    "    df_score_n = pd.DataFrame({'n_estimatros': param_tree, 'TrainScore': train_score, 'TestScore': test_score})\n",
    "    optimal_visualization(algorithmName, param_tree, train_score, test_score, \"esimator number\")\n",
    "    print(round(df_score_n, 5))"
   ]
  },
  {
   "cell_type": "code",
   "execution_count": 7,
   "id": "9b60020f-3302-457c-9dcd-cc5022ac88ca",
   "metadata": {},
   "outputs": [],
   "source": [
    "#최대 깊이 조정 함수 max_depth\n",
    "def optimal_maxdepth(algorithm, algorithmName, x_train, y_train, x_test, y_test, depth_min, depth_max, n_estimator):\n",
    "    train_score = []; test_score = []\n",
    "    param_depth = [n_depth for n_depth in range(depth_min, depth_max)]\n",
    "    \n",
    "    for v_max_depth in param_depth:\n",
    "        model=algorithm(max_depth= v_max_depth,\n",
    "                        n_estimators= n_estimator,\n",
    "                        random_state=seed,\n",
    "                        n_jobs=-1)\n",
    "        model.fit(x_train,y_train)\n",
    "        train_score.append(model.score(x_train, y_train))\n",
    "        test_score.append(model.score(x_test, y_test))\n",
    "        \n",
    "    df_score_n = pd.DataFrame({'n_depth': param_depth, 'TrainScore': train_score, 'TestScore': test_score})\n",
    "    optimal_visualization(algorithmName, param_depth, train_score, test_score, \"depth number\")\n",
    "    print(round(df_score_n, 5))"
   ]
  },
  {
   "cell_type": "code",
   "execution_count": 8,
   "id": "3368b61f-6cf7-4b5e-a6cf-eccaf166f7aa",
   "metadata": {},
   "outputs": [],
   "source": [
    "#잎이 아닌 노드 최소 샘플 개수 조정 함수 min_samples_split. random seach로는 최적화 못하는 듯함\n",
    "#값이 크면 과소적합될 가능성 있음\n",
    "#training dataset 개수 보고 결정하기\n",
    "def optimal_minsplit(algorithm, algorithmName, x_train, y_train, x_test, y_test, split_min, split_max, n_estimator, n_depth):\n",
    "    train_score = []; test_score = []\n",
    "    param_split= [n_split*2 for n_split in range(split_min, split_max)]\n",
    "    \n",
    "    for v_min_samples_split in param_split:\n",
    "        model=algorithm(min_samples_split=v_min_samples_split,\n",
    "                        n_estimators= n_estimator,\n",
    "                        max_depth = n_depth,\n",
    "                        random_state=seed,\n",
    "                        n_jobs=-1)\n",
    "        model.fit(x_train,y_train)\n",
    "        train_score.append(model.score(x_train, y_train))\n",
    "        test_score.append(model.score(x_test, y_test))\n",
    "    \n",
    "    df_score_n = pd.DataFrame({'n_samples_split': param_split,'TrainScore': train_score, 'TestScore': test_score})\n",
    "    optimal_visualization(algorithmName,param_split,train_score, test_score,\"samples_split number\")\n",
    "    print(round(df_score_n, 5))"
   ]
  },
  {
   "cell_type": "code",
   "execution_count": 9,
   "id": "c62d9b88-6694-4d69-ae5c-338eb90e7438",
   "metadata": {},
   "outputs": [],
   "source": [
    "#잎 노드 최소 샘플 개수 조정 함수 min_samples_leaf\n",
    "def optimal_minsleaf(algorithm, algorithmName, x_train, y_train, x_test, y_test, leaf_min, leaf_max, n_estimator, n_depth, n_split):\n",
    "    train_score = []; test_score = []\n",
    "    param_leaf= [n_leaf*2 for n_leaf in range(leaf_min, leaf_max)]\n",
    "    \n",
    "    for v_min_samples_leaf in param_leaf:\n",
    "        model=algorithm(min_samples_leaf=v_min_samples_leaf,\n",
    "                        n_estimators= n_estimator,\n",
    "                        max_depth = n_depth,\n",
    "                        min_samples_split = n_split,\n",
    "                        random_state=seed,\n",
    "                        n_jobs=-1)\n",
    "        model.fit(x_train,y_train)\n",
    "        train_score.append(model.score(x_train, y_train))\n",
    "        test_score.append(model.score(x_test, y_test))\n",
    "    \n",
    "    df_score_n = pd.DataFrame({'n_samples_leaf': param_leaf,'TrainScore': train_score, 'TestScore': test_score})\n",
    "    optimal_visualization(algorithmName,param_leaf,train_score, test_score,\"samples_leaf number\")\n",
    "    print(round(df_score_n, 5))"
   ]
  },
  {
   "cell_type": "code",
   "execution_count": 10,
   "id": "5b429b25-c074-4833-bb38-7908979e904a",
   "metadata": {},
   "outputs": [],
   "source": [
    "def rfmodel(algorithm, algorithmName, x_train, y_train, x_test, y_test, leaf_min, leaf_max, n_estimator, n_depth, n_split, n_leaf):\n",
    "    model=algorithm(n_estimators= n_estimator,\n",
    "                    max_depth = n_depth,\n",
    "                    min_samples_split = n_split,\n",
    "                    min_samples_leaf=n_leaf,\n",
    "                    random_state=seed,\n",
    "                    n_jobs=-1) #cpu 코어\n",
    "    \n",
    "    model.fit(x_train,y_train)\n",
    "    \n",
    "    train_accu = print(model.score(x_train, y_train))\n",
    "    test_accu = print(model.score(x_test, y_test))\n",
    "    pred= model.predict(x_test)\n",
    "    \n",
    "    #성능평가\n",
    "    print(\"Accuracy \",accuracy_score(y_test, pred))\n",
    "    print(\"Precision \",precision_score(y_test, pred))\n",
    "    print(\"Recall Score \",recall_score(y_test, pred))\n",
    "    print(\"F1 Score \",f1_score(y_test, pred))\n",
    "    print(\"Balanced Accuracy Score \",balanced_accuracy_score(y_test, pred))\n",
    "    \n",
    "    #혼돈행렬\n",
    "    plt.figure(figsize=(30,30))\n",
    "    plot_confusion_matrix(model,x_test,y_test, include_values=True,\n",
    "                          display_labels=[0,1])\n",
    "    plt.show()"
   ]
  },
  {
   "cell_type": "code",
   "execution_count": 50,
   "id": "2510c642-9bc9-498d-af4f-afa31893999b",
   "metadata": {},
   "outputs": [
    {
     "name": "stdout",
     "output_type": "stream",
     "text": [
      "Averaged results of cross validation:  0.964968076032638\n"
     ]
    }
   ],
   "source": [
    "# 교차검증\n",
    "rf= RandomForestClassifier()\n",
    "X=df.drop('Status',axis=1)\n",
    "Y=df['Status']\n",
    "# 각 폴드의 스코어 \n",
    "scores = cross_val_score(rf, X, Y, cv = 5)\n",
    "\n",
    "print('Averaged results of cross validation: ', scores.mean())\n",
    "#교차검증 평균"
   ]
  },
  {
   "cell_type": "markdown",
   "id": "2c6267ec-bddd-4a99-a2db-d2a75b78b650",
   "metadata": {},
   "source": [
    "*3분 정도 걸렸음"
   ]
  },
  {
   "cell_type": "code",
   "execution_count": 51,
   "id": "696e2e8e-e20f-491f-b686-9388b9e998dc",
   "metadata": {},
   "outputs": [
    {
     "data": {
      "text/html": [
       "<div>\n",
       "<style scoped>\n",
       "    .dataframe tbody tr th:only-of-type {\n",
       "        vertical-align: middle;\n",
       "    }\n",
       "\n",
       "    .dataframe tbody tr th {\n",
       "        vertical-align: top;\n",
       "    }\n",
       "\n",
       "    .dataframe thead th {\n",
       "        text-align: right;\n",
       "    }\n",
       "</style>\n",
       "<table border=\"1\" class=\"dataframe\">\n",
       "  <thead>\n",
       "    <tr style=\"text-align: right;\">\n",
       "      <th></th>\n",
       "      <th>fit_time</th>\n",
       "      <th>score_time</th>\n",
       "      <th>test_score</th>\n",
       "    </tr>\n",
       "  </thead>\n",
       "  <tbody>\n",
       "    <tr>\n",
       "      <th>0</th>\n",
       "      <td>39.038353</td>\n",
       "      <td>1.371207</td>\n",
       "      <td>0.966073</td>\n",
       "    </tr>\n",
       "    <tr>\n",
       "      <th>1</th>\n",
       "      <td>40.562467</td>\n",
       "      <td>1.504128</td>\n",
       "      <td>0.965239</td>\n",
       "    </tr>\n",
       "    <tr>\n",
       "      <th>2</th>\n",
       "      <td>37.691134</td>\n",
       "      <td>1.262272</td>\n",
       "      <td>0.965830</td>\n",
       "    </tr>\n",
       "    <tr>\n",
       "      <th>3</th>\n",
       "      <td>38.030938</td>\n",
       "      <td>1.363209</td>\n",
       "      <td>0.964127</td>\n",
       "    </tr>\n",
       "    <tr>\n",
       "      <th>4</th>\n",
       "      <td>40.340595</td>\n",
       "      <td>1.205303</td>\n",
       "      <td>0.964127</td>\n",
       "    </tr>\n",
       "  </tbody>\n",
       "</table>\n",
       "</div>"
      ],
      "text/plain": [
       "    fit_time  score_time  test_score\n",
       "0  39.038353    1.371207    0.966073\n",
       "1  40.562467    1.504128    0.965239\n",
       "2  37.691134    1.262272    0.965830\n",
       "3  38.030938    1.363209    0.964127\n",
       "4  40.340595    1.205303    0.964127"
      ]
     },
     "execution_count": 51,
     "metadata": {},
     "output_type": "execute_result"
    }
   ],
   "source": [
    "pd.DataFrame(cross_validate(rf, X, Y, cv =5))"
   ]
  },
  {
   "cell_type": "code",
   "execution_count": 11,
   "id": "299b691e-ef25-40d3-8230-32b0f28e3738",
   "metadata": {},
   "outputs": [],
   "source": [
    "algorithm= RandomForestClassifier\n",
    "algorithmName='랜덤포레스트'"
   ]
  },
  {
   "cell_type": "code",
   "execution_count": 49,
   "id": "248e6c55-f62c-4800-854f-9fa13e972b20",
   "metadata": {},
   "outputs": [
    {
     "name": "stdout",
     "output_type": "stream",
     "text": [
      "학습 데이터셋 정확도:  1.0\n",
      "테스트 데이터셋 정확도:  0.9634216923255007\n",
      "혼돈행렬:  [[32406   148]\n",
      " [ 1432  9209]]\n",
      "Accuracy  0.9634216923255007\n",
      "Precision  0.9841829646254141\n",
      "Recall Score  0.8654261817498355\n",
      "F1 Score  0.920992099209921\n",
      "Balanced Accuracy Score  0.9304399447177635\n"
     ]
    }
   ],
   "source": [
    "default_model(algorithm, x_train, y_train, x_test, y_test)"
   ]
  },
  {
   "cell_type": "markdown",
   "id": "d6bf4ded-9410-44e4-965d-d3da423f17fa",
   "metadata": {},
   "source": [
    "* 과적합 상태"
   ]
  },
  {
   "cell_type": "code",
   "execution_count": 34,
   "id": "af7d0141-2a2a-459e-b4ec-e5c1a7efa4bb",
   "metadata": {},
   "outputs": [
    {
     "name": "stdout",
     "output_type": "stream",
     "text": [
      "    n_estimatros  TrainScore  TestScore\n",
      "0              5     0.99434    0.94409\n",
      "1             10     0.99741    0.95034\n",
      "2             15     0.99938    0.96085\n",
      "3             20     0.99961    0.95777\n",
      "4             25     0.99989    0.96206\n",
      "5             30     0.99987    0.96057\n",
      "6             35     0.99994    0.96273\n",
      "7             40     0.99994    0.96266\n",
      "8             45     0.99998    0.96432\n",
      "9             50     0.99998    0.96261\n",
      "10            55     1.00000    0.96405\n",
      "11            60     0.99999    0.96284\n",
      "12            65     1.00000    0.96296\n",
      "13            70     1.00000    0.96155\n",
      "14            75     1.00000    0.96303\n",
      "15            80     1.00000    0.96236\n",
      "16            85     1.00000    0.96356\n",
      "17            90     1.00000    0.96338\n",
      "18            95     1.00000    0.96414\n",
      "19           100     1.00000    0.96342\n",
      "20           105     1.00000    0.96398\n",
      "21           110     1.00000    0.96335\n",
      "22           115     1.00000    0.96416\n",
      "23           120     1.00000    0.96386\n",
      "24           125     1.00000    0.96428\n",
      "25           130     1.00000    0.96368\n",
      "26           135     1.00000    0.96435\n",
      "27           140     1.00000    0.96402\n",
      "28           145     1.00000    0.96456\n"
     ]
    },
    {
     "data": {
      "image/png": "[encoded data removed]",
      "text/plain": [
       "<Figure size 432x288 with 1 Axes>"
      ]
     },
     "metadata": {
      "needs_background": "light"
     },
     "output_type": "display_data"
    }
   ],
   "source": [
    "n_estimator_min=1\n",
    "n_estimator_max=30\n",
    "optimal_estimator(algorithm, algorithmName, x_train, y_train, x_test, y_test, n_estimator_min, n_estimator_max)"
   ]
  },
  {
   "cell_type": "markdown",
   "id": "05f9a2c1-4d1a-487a-a0d4-8b5fcc42e9aa",
   "metadata": {},
   "source": [
    "* 트리 개수 55부터 과적합\n",
    "* 그러나 트리 개수는 많으면 좋은 성능을 보일 수 있다 함\n",
    "* 15와 25도 좋아보임(나중에 gridsearch 해볼 것)"
   ]
  },
  {
   "cell_type": "code",
   "execution_count": 12,
   "id": "066e1ec7-ad3d-4183-8a42-f05b1fdf7810",
   "metadata": {},
   "outputs": [],
   "source": [
    "n_estimator = 45\n",
    "#n_estimator = 15\n",
    "# 55 미만인 것 중 TestScore 높은거 선택"
   ]
  },
  {
   "cell_type": "code",
   "execution_count": 40,
   "id": "c8bb5f76-7c22-49f8-a20c-7742298064e7",
   "metadata": {},
   "outputs": [
    {
     "name": "stdout",
     "output_type": "stream",
     "text": [
      "    n_depth  TrainScore  TestScore\n",
      "0         1     0.75965    0.75745\n",
      "1         2     0.85594    0.85410\n",
      "2         3     0.85745    0.85552\n",
      "3         4     0.86013    0.85811\n",
      "4         5     0.86228    0.85996\n",
      "5         6     0.86723    0.86480\n",
      "6         7     0.87025    0.86765\n",
      "7         8     0.87481    0.87066\n",
      "8         9     0.88317    0.87832\n",
      "9        10     0.89313    0.88670\n",
      "10       11     0.90112    0.89300\n",
      "11       12     0.90914    0.89915\n",
      "12       13     0.92258    0.90934\n",
      "13       14     0.92933    0.91497\n",
      "14       15     0.93950    0.92265\n",
      "15       16     0.95183    0.93224\n",
      "16       17     0.95810    0.93559\n",
      "17       18     0.96644    0.94300\n",
      "18       19     0.97483    0.94791\n"
     ]
    },
    {
     "data": {
      "image/png": "[encoded data removed]",
      "text/plain": [
       "<Figure size 432x288 with 1 Axes>"
      ]
     },
     "metadata": {
      "needs_background": "light"
     },
     "output_type": "display_data"
    }
   ],
   "source": [
    "depth_min=1\n",
    "depth_max=20\n",
    "optimal_maxdepth(algorithm, algorithmName, x_train, y_train, x_test, y_test, depth_min, depth_max, n_estimator)"
   ]
  },
  {
   "cell_type": "code",
   "execution_count": 33,
   "id": "6bd6f5f2-c647-4f1a-90dd-530213f8db32",
   "metadata": {},
   "outputs": [],
   "source": [
    "train_Minus_test = []\n",
    "#최대 깊이 조정 함수 max_depth\n",
    "def optimal_maxdepth(algorithm, algorithmName, x_train, y_train, x_test, y_test, depth_min, depth_max, n_estimator):\n",
    "    train_score = []; test_score = []; train_Minus_test = []\n",
    "    param_depth = [n_depth for n_depth in range(depth_min, depth_max)]\n",
    "    \n",
    "    for v_max_depth in param_depth:\n",
    "        model=algorithm(max_depth= v_max_depth,\n",
    "                        n_estimators= n_estimator,\n",
    "                        random_state=seed,\n",
    "                        n_jobs=-1)\n",
    "        model.fit(x_train,y_train)\n",
    "        train_score.append(model.score(x_train, y_train))\n",
    "        test_score.append(model.score(x_test, y_test))\n",
    "        train_Minus_test.append(model.score(x_train, y_train)-model.score(x_test, y_test))\n",
    "        \n",
    "    df_score_n = pd.DataFrame({'n_depth': param_depth, 'TrainScore': train_score, 'TestScore': test_score, 'Train-Test': train_Minus_test})\n",
    "    optimal_visualization(algorithmName, param_depth, train_score, test_score, \"depth number\")\n",
    "    print(round(df_score_n, 5))"
   ]
  },
  {
   "cell_type": "code",
   "execution_count": 34,
   "id": "1ce76092-2143-4493-a267-14f77fcc61fc",
   "metadata": {},
   "outputs": [
    {
     "name": "stdout",
     "output_type": "stream",
     "text": [
      "    n_depth  TrainScore  TestScore  Train-Test\n",
      "0         1     0.75965    0.75745     0.00221\n",
      "1         2     0.85594    0.85410     0.00183\n",
      "2         3     0.85745    0.85552     0.00194\n",
      "3         4     0.86013    0.85811     0.00202\n",
      "4         5     0.86228    0.85996     0.00231\n",
      "5         6     0.86723    0.86480     0.00243\n",
      "6         7     0.87025    0.86765     0.00261\n",
      "7         8     0.87481    0.87066     0.00415\n",
      "8         9     0.88317    0.87832     0.00485\n",
      "9        10     0.89313    0.88670     0.00643\n",
      "10       11     0.90112    0.89300     0.00812\n",
      "11       12     0.90914    0.89915     0.00998\n",
      "12       13     0.92258    0.90934     0.01324\n",
      "13       14     0.92933    0.91497     0.01436\n",
      "14       15     0.93950    0.92265     0.01684\n",
      "15       16     0.95183    0.93224     0.01959\n",
      "16       17     0.95810    0.93559     0.02251\n",
      "17       18     0.96644    0.94300     0.02344\n",
      "18       19     0.97483    0.94791     0.02692\n"
     ]
    },
    {
     "data": {
      "image/png": "[encoded data removed]",
      "text/plain": [
       "<Figure size 432x288 with 1 Axes>"
      ]
     },
     "metadata": {
      "needs_background": "light"
     },
     "output_type": "display_data"
    }
   ],
   "source": [
    "depth_min=1\n",
    "depth_max=20\n",
    "optimal_maxdepth(algorithm, algorithmName, x_train, y_train, x_test, y_test, depth_min, depth_max, n_estimator)"
   ]
  },
  {
   "cell_type": "code",
   "execution_count": 41,
   "id": "eaf20ed0-dd42-46a5-a150-961b1278530d",
   "metadata": {},
   "outputs": [
    {
     "name": "stdout",
     "output_type": "stream",
     "text": [
      "    n_depth  TrainScore  TestScore\n",
      "0        20     0.97909    0.94698\n",
      "1        21     0.98637    0.95236\n",
      "2        22     0.98899    0.95379\n",
      "3        23     0.99351    0.95571\n",
      "4        24     0.99580    0.95942\n",
      "5        25     0.99729    0.96067\n",
      "6        26     0.99876    0.96171\n",
      "7        27     0.99903    0.96196\n",
      "8        28     0.99965    0.96270\n",
      "9        29     0.99985    0.96458\n",
      "10       30     0.99993    0.96331\n"
     ]
    },
    {
     "data": {
      "image/png": "[encoded data removed]",
      "text/plain": [
       "<Figure size 432x288 with 1 Axes>"
      ]
     },
     "metadata": {
      "needs_background": "light"
     },
     "output_type": "display_data"
    }
   ],
   "source": [
    "depth_min=20\n",
    "depth_max=31\n",
    "optimal_maxdepth(algorithm, algorithmName, x_train, y_train, x_test, y_test, depth_min, depth_max, n_estimator)"
   ]
  },
  {
   "cell_type": "markdown",
   "id": "747b23ad-5abf-4648-90b7-0efc4f75608f",
   "metadata": {},
   "source": [
    "* 깊어질 수록 테스트 score 올라감\n",
    "* 30에서 감소될 것 같음"
   ]
  },
  {
   "cell_type": "code",
   "execution_count": 42,
   "id": "46396685-85f7-4b18-8b85-0ff04682bd57",
   "metadata": {},
   "outputs": [
    {
     "name": "stdout",
     "output_type": "stream",
     "text": [
      "    n_depth  TrainScore  TestScore\n",
      "0        30     0.99993    0.96331\n",
      "1        31     0.99991    0.96502\n",
      "2        32     0.99996    0.96398\n",
      "3        33     0.99997    0.96127\n",
      "4        34     0.99995    0.96363\n",
      "5        35     0.99998    0.96361\n",
      "6        36     0.99997    0.96423\n",
      "7        37     0.99995    0.96458\n",
      "8        38     0.99998    0.96555\n",
      "9        39     0.99999    0.96407\n",
      "10       40     0.99998    0.96493\n"
     ]
    },
    {
     "data": {
      "image/png": "[encoded data removed]",
      "text/plain": [
       "<Figure size 432x288 with 1 Axes>"
      ]
     },
     "metadata": {
      "needs_background": "light"
     },
     "output_type": "display_data"
    }
   ],
   "source": [
    "depth_min=30\n",
    "depth_max=41\n",
    "optimal_maxdepth(algorithm, algorithmName, x_train, y_train, x_test, y_test, depth_min, depth_max, n_estimator)"
   ]
  },
  {
   "cell_type": "code",
   "execution_count": 13,
   "id": "10479ecc-da29-4e59-b569-f917a8ab84de",
   "metadata": {},
   "outputs": [],
   "source": [
    "#n_depth = 31\n",
    "#n_depth = 38\n",
    "n_depth = 12"
   ]
  },
  {
   "cell_type": "code",
   "execution_count": 14,
   "id": "def5640c-96d8-451e-8b27-837b81659f05",
   "metadata": {},
   "outputs": [
    {
     "name": "stdout",
     "output_type": "stream",
     "text": [
      "    n_samples_split  TrainScore  TestScore\n",
      "0                 2     0.90914    0.89915\n",
      "1                 4     0.91410    0.90376\n",
      "2                 6     0.90857    0.89890\n",
      "3                 8     0.91174    0.90223\n",
      "4                10     0.91395    0.90548\n",
      "5                12     0.91102    0.90138\n",
      "6                14     0.90556    0.89703\n",
      "7                16     0.90733    0.89948\n",
      "8                18     0.90705    0.89865\n",
      "9                20     0.90941    0.90050\n",
      "10               22     0.90359    0.89564\n",
      "11               24     0.90216    0.89469\n",
      "12               26     0.90750    0.90024\n",
      "13               28     0.90245    0.89459\n",
      "14               30     0.90918    0.90168\n",
      "15               32     0.90878    0.90186\n",
      "16               34     0.91026    0.90226\n",
      "17               36     0.90897    0.90112\n",
      "18               38     0.90717    0.90015\n",
      "19               40     0.90817    0.90068\n",
      "20               42     0.90576    0.89862\n",
      "21               44     0.90698    0.89973\n",
      "22               46     0.90858    0.90108\n",
      "23               48     0.90816    0.90064\n",
      "24               50     0.90630    0.89971\n",
      "25               52     0.91139    0.90379\n",
      "26               54     0.90874    0.90186\n",
      "27               56     0.90521    0.89834\n",
      "28               58     0.90771    0.90078\n",
      "29               60     0.90739    0.90179\n",
      "30               62     0.90880    0.90145\n",
      "31               64     0.90860    0.90110\n",
      "32               66     0.90332    0.89661\n",
      "33               68     0.90708    0.89971\n",
      "34               70     0.90542    0.89872\n",
      "35               72     0.90572    0.90001\n",
      "36               74     0.90652    0.90001\n",
      "37               76     0.90503    0.89899\n",
      "38               78     0.90486    0.89885\n",
      "39               80     0.91036    0.90355\n",
      "40               82     0.90153    0.89499\n",
      "41               84     0.90398    0.89737\n",
      "42               86     0.90372    0.89811\n",
      "43               88     0.90092    0.89413\n",
      "44               90     0.89974    0.89327\n",
      "45               92     0.90269    0.89617\n",
      "46               94     0.90379    0.89746\n",
      "47               96     0.90469    0.89855\n",
      "48               98     0.90337    0.89677\n",
      "49              100     0.89982    0.89367\n",
      "50              102     0.90497    0.89883\n",
      "51              104     0.90499    0.89846\n",
      "52              106     0.90280    0.89693\n",
      "53              108     0.90141    0.89577\n",
      "54              110     0.90146    0.89587\n",
      "55              112     0.90197    0.89605\n",
      "56              114     0.90022    0.89371\n",
      "57              116     0.90258    0.89605\n",
      "58              118     0.90182    0.89624\n",
      "59              120     0.89988    0.89332\n",
      "60              122     0.89808    0.89226\n",
      "61              124     0.89622    0.89064\n",
      "62              126     0.90220    0.89608\n",
      "63              128     0.90168    0.89603\n",
      "64              130     0.90272    0.89763\n",
      "65              132     0.90026    0.89503\n",
      "66              134     0.90041    0.89459\n",
      "67              136     0.90112    0.89566\n",
      "68              138     0.89947    0.89341\n",
      "69              140     0.89749    0.89191\n",
      "70              142     0.90045    0.89436\n",
      "71              144     0.89751    0.89175\n",
      "72              146     0.90039    0.89422\n",
      "73              148     0.90126    0.89478\n",
      "74              150     0.89854    0.89302\n",
      "75              152     0.89997    0.89471\n",
      "76              154     0.89861    0.89205\n",
      "77              156     0.90103    0.89557\n",
      "78              158     0.89960    0.89425\n",
      "79              160     0.89899    0.89307\n",
      "80              162     0.89873    0.89258\n",
      "81              164     0.89999    0.89531\n",
      "82              166     0.89909    0.89432\n",
      "83              168     0.90019    0.89478\n",
      "84              170     0.90262    0.89756\n",
      "85              172     0.90001    0.89478\n",
      "86              174     0.90008    0.89462\n",
      "87              176     0.90091    0.89524\n",
      "88              178     0.90154    0.89538\n",
      "89              180     0.90095    0.89506\n",
      "90              182     0.89999    0.89404\n",
      "91              184     0.90049    0.89480\n",
      "92              186     0.89943    0.89321\n",
      "93              188     0.90203    0.89619\n",
      "94              190     0.90215    0.89624\n",
      "95              192     0.90260    0.89621\n",
      "96              194     0.90178    0.89564\n",
      "97              196     0.90036    0.89471\n",
      "98              198     0.90130    0.89580\n",
      "99              200     0.89909    0.89367\n"
     ]
    },
    {
     "data": {
      "image/png": "[encoded data removed]",
      "text/plain": [
       "<Figure size 432x288 with 1 Axes>"
      ]
     },
     "metadata": {
      "needs_background": "light"
     },
     "output_type": "display_data"
    }
   ],
   "source": [
    "split_min=1\n",
    "split_max=101\n",
    "# 데이터프레임 행 최대 100개까지 반드시 출력\n",
    "pd.set_option('display.max_row', 100)\n",
    "optimal_minsplit(algorithm, algorithmName, x_train, y_train, x_test, y_test, split_min, split_max, n_estimator, n_depth)"
   ]
  },
  {
   "cell_type": "markdown",
   "id": "0d965c5c-593a-4fbf-b123-1a8e3b5adb01",
   "metadata": {},
   "source": [
    "*25분정도 걸림\n",
    "*같이 감소함\n",
    "*train과 test score 차이가 적은 것을 선택할 것"
   ]
  },
  {
   "cell_type": "code",
   "execution_count": 15,
   "id": "a09e06de-6bbe-4319-8029-b6064fa4c8a4",
   "metadata": {},
   "outputs": [],
   "source": [
    "#잎이 아닌 노드 최소 샘플 개수 조정 함수 min_samples_split. random seach로는 최적화 못하는 듯함\n",
    "#값이 크면 과소적합될 가능성 있음\n",
    "#training dataset 개수 보고 결정하기\n",
    "def optimal_minsplit_re(algorithm, algorithmName, x_train, y_train, x_test, y_test, split_min, split_max, n_estimator, n_depth):\n",
    "    train_score = []; test_score = []; train_Minus_test = []\n",
    "    param_split= [n_split*2 for n_split in range(split_min, split_max)]\n",
    "    \n",
    "    for v_min_samples_split in param_split:\n",
    "        model=algorithm(min_samples_split=v_min_samples_split,\n",
    "                        n_estimators= n_estimator,\n",
    "                        max_depth = n_depth,\n",
    "                        random_state=seed,\n",
    "                        n_jobs=-1)\n",
    "        model.fit(x_train,y_train)\n",
    "        train_score.append(model.score(x_train, y_train))\n",
    "        test_score.append(model.score(x_test, y_test))\n",
    "        train_Minus_test.append(model.score(x_train, y_train)-model.score(x_test, y_test))\n",
    "    \n",
    "    df_score_n = pd.DataFrame({'n_samples_split': param_split,'TrainScore': train_score, 'TestScore': test_score, 'Train-Test': train_Minus_test})\n",
    "    optimal_visualization(algorithmName,param_split,train_score, test_score,\"samples_split number\")\n",
    "    print(round(df_score_n, 5))"
   ]
  },
  {
   "cell_type": "code",
   "execution_count": 16,
   "id": "ed0a7cd2-9658-45ea-a75a-fc7026226cbf",
   "metadata": {},
   "outputs": [
    {
     "name": "stdout",
     "output_type": "stream",
     "text": [
      "    n_samples_split  TrainScore  TestScore  Train-Test\n",
      "0                 2     0.90914    0.89915     0.00998\n",
      "1                 4     0.91410    0.90376     0.01033\n",
      "2                 6     0.90857    0.89890     0.00967\n",
      "3                 8     0.91174    0.90223     0.00950\n",
      "4                10     0.91395    0.90548     0.00847\n",
      "5                12     0.91102    0.90138     0.00964\n",
      "6                14     0.90556    0.89703     0.00854\n",
      "7                16     0.90733    0.89948     0.00785\n",
      "8                18     0.90705    0.89865     0.00841\n",
      "9                20     0.90941    0.90050     0.00892\n",
      "10               22     0.90359    0.89564     0.00795\n",
      "11               24     0.90216    0.89469     0.00747\n",
      "12               26     0.90750    0.90024     0.00726\n",
      "13               28     0.90245    0.89459     0.00785\n",
      "14               30     0.90918    0.90168     0.00750\n",
      "15               32     0.90878    0.90186     0.00692\n",
      "16               34     0.91026    0.90226     0.00800\n",
      "17               36     0.90897    0.90112     0.00784\n",
      "18               38     0.90717    0.90015     0.00702\n",
      "19               40     0.90817    0.90068     0.00749\n",
      "20               42     0.90576    0.89862     0.00714\n",
      "21               44     0.90698    0.89973     0.00725\n",
      "22               46     0.90858    0.90108     0.00750\n",
      "23               48     0.90816    0.90064     0.00753\n",
      "24               50     0.90630    0.89971     0.00659\n",
      "25               52     0.91139    0.90379     0.00760\n",
      "26               54     0.90874    0.90186     0.00688\n",
      "27               56     0.90521    0.89834     0.00686\n",
      "28               58     0.90771    0.90078     0.00693\n",
      "29               60     0.90739    0.90179     0.00560\n",
      "30               62     0.90880    0.90145     0.00735\n",
      "31               64     0.90860    0.90110     0.00750\n",
      "32               66     0.90332    0.89661     0.00671\n",
      "33               68     0.90708    0.89971     0.00737\n",
      "34               70     0.90542    0.89872     0.00670\n",
      "35               72     0.90572    0.90001     0.00571\n",
      "36               74     0.90652    0.90001     0.00651\n",
      "37               76     0.90503    0.89899     0.00604\n",
      "38               78     0.90486    0.89885     0.00601\n",
      "39               80     0.91036    0.90355     0.00680\n",
      "40               82     0.90153    0.89499     0.00654\n",
      "41               84     0.90398    0.89737     0.00660\n",
      "42               86     0.90372    0.89811     0.00561\n",
      "43               88     0.90092    0.89413     0.00679\n",
      "44               90     0.89974    0.89327     0.00647\n",
      "45               92     0.90269    0.89617     0.00652\n",
      "46               94     0.90379    0.89746     0.00632\n",
      "47               96     0.90469    0.89855     0.00614\n",
      "48               98     0.90337    0.89677     0.00660\n",
      "49              100     0.89982    0.89367     0.00615\n"
     ]
    },
    {
     "data": {
      "image/png": "[encoded data removed]",
      "text/plain": [
       "<Figure size 432x288 with 1 Axes>"
      ]
     },
     "metadata": {
      "needs_background": "light"
     },
     "output_type": "display_data"
    }
   ],
   "source": [
    "split_min=1\n",
    "split_max=51\n",
    "# 데이터프레임 행 최대 50개까지 반드시 출력\n",
    "pd.set_option('display.max_row', 50)\n",
    "optimal_minsplit_re(algorithm, algorithmName, x_train, y_train, x_test, y_test, split_min, split_max, n_estimator, n_depth)"
   ]
  },
  {
   "cell_type": "markdown",
   "id": "165fcb24-c30c-496b-9155-ed1f532cd8f6",
   "metadata": {},
   "source": [
    "*sampels_split number가 많아질수록 과적합 피하게 됨"
   ]
  },
  {
   "cell_type": "code",
   "execution_count": 17,
   "id": "4e8ced73-2509-4fb6-b828-801c2b959c3b",
   "metadata": {},
   "outputs": [],
   "source": [
    "n_split=52\n",
    "#n_split=10\n",
    "#n_split=16\n",
    "#n_split=32\n",
    "#n_split=60\n",
    "#n_split=80"
   ]
  },
  {
   "cell_type": "code",
   "execution_count": 18,
   "id": "2fcabd72-b182-4c7d-8d7d-b51627d72f98",
   "metadata": {},
   "outputs": [
    {
     "name": "stdout",
     "output_type": "stream",
     "text": [
      "    n_samples_leaf  TrainScore  TestScore\n",
      "0                2     0.90451    0.89735\n",
      "1                4     0.90669    0.89997\n",
      "2                6     0.90659    0.89957\n",
      "3                8     0.90252    0.89554\n",
      "4               10     0.90356    0.89656\n",
      "5               12     0.90393    0.89770\n",
      "6               14     0.90336    0.89672\n",
      "7               16     0.90511    0.89869\n",
      "8               18     0.90544    0.89832\n",
      "9               20     0.90316    0.89730\n",
      "10              22     0.90176    0.89510\n",
      "11              24     0.90281    0.89647\n",
      "12              26     0.90080    0.89499\n",
      "13              28     0.90073    0.89492\n",
      "14              30     0.89661    0.89121\n",
      "15              32     0.89736    0.89200\n",
      "16              34     0.90071    0.89369\n",
      "17              36     0.89696    0.89154\n",
      "18              38     0.90037    0.89469\n",
      "19              40     0.90120    0.89494\n"
     ]
    },
    {
     "data": {
      "image/png": "[encoded data removed]",
      "text/plain": [
       "<Figure size 432x288 with 1 Axes>"
      ]
     },
     "metadata": {
      "needs_background": "light"
     },
     "output_type": "display_data"
    }
   ],
   "source": [
    "leaf_min=1\n",
    "leaf_max=21\n",
    "optimal_minsleaf(algorithm, algorithmName, x_train, y_train, x_test, y_test, leaf_min, leaf_max, n_estimator, n_depth, n_split)"
   ]
  },
  {
   "cell_type": "code",
   "execution_count": 19,
   "id": "d3ae2d5b-ad08-4734-8b47-c303bcc436b5",
   "metadata": {},
   "outputs": [],
   "source": [
    "n_leaf=6"
   ]
  },
  {
   "cell_type": "code",
   "execution_count": 20,
   "id": "1e955224-b2f2-4162-a17a-0ef9eef53e06",
   "metadata": {},
   "outputs": [
    {
     "name": "stdout",
     "output_type": "stream",
     "text": [
      "0.9065861015200222\n",
      "0.8995717096886213\n",
      "Accuracy  0.8995717096886213\n",
      "Precision  0.9800456968773801\n",
      "Recall Score  0.6046424208251104\n",
      "F1 Score  0.7478786469836104\n",
      "Balanced Accuracy Score  0.8003091688815606\n"
     ]
    },
    {
     "data": {
      "text/plain": [
       "<Figure size 2160x2160 with 0 Axes>"
      ]
     },
     "metadata": {},
     "output_type": "display_data"
    },
    {
     "data": {
      "image/png": "[encoded data removed]",
      "text/plain": [
       "<Figure size 432x288 with 2 Axes>"
      ]
     },
     "metadata": {
      "needs_background": "light"
     },
     "output_type": "display_data"
    }
   ],
   "source": [
    "rfmodel(algorithm, algorithmName, x_train, y_train, x_test, y_test, leaf_min, leaf_max, n_estimator, n_depth, n_split, n_leaf)\n",
    "#n_estimators=45\n",
    "#n_depth = 12\n",
    "#n_split=52\n",
    "#n_leaf=6"
   ]
  },
  {
   "cell_type": "code",
   "execution_count": null,
   "id": "3e98dc28-6199-4003-a541-a54b5bfb20ba",
   "metadata": {},
   "outputs": [],
   "source": []
  },
  {
   "cell_type": "code",
   "execution_count": 22,
   "id": "29d47aa1-ff62-4a0c-bb0a-9b032591dc88",
   "metadata": {},
   "outputs": [
    {
     "data": {
      "text/html": [
       "<div>\n",
       "<style scoped>\n",
       "    .dataframe tbody tr th:only-of-type {\n",
       "        vertical-align: middle;\n",
       "    }\n",
       "\n",
       "    .dataframe tbody tr th {\n",
       "        vertical-align: top;\n",
       "    }\n",
       "\n",
       "    .dataframe thead th {\n",
       "        text-align: right;\n",
       "    }\n",
       "</style>\n",
       "<table border=\"1\" class=\"dataframe\">\n",
       "  <thead>\n",
       "    <tr style=\"text-align: right;\">\n",
       "      <th></th>\n",
       "      <th>max_depth</th>\n",
       "      <th>min_samples_split</th>\n",
       "      <th>n_estimators</th>\n",
       "      <th>mean_test_score</th>\n",
       "    </tr>\n",
       "  </thead>\n",
       "  <tbody>\n",
       "    <tr>\n",
       "      <th>38</th>\n",
       "      <td>31</td>\n",
       "      <td>10</td>\n",
       "      <td>45</td>\n",
       "      <td>0.957217</td>\n",
       "    </tr>\n",
       "    <tr>\n",
       "      <th>54</th>\n",
       "      <td>38</td>\n",
       "      <td>10</td>\n",
       "      <td>15</td>\n",
       "      <td>0.956632</td>\n",
       "    </tr>\n",
       "    <tr>\n",
       "      <th>36</th>\n",
       "      <td>31</td>\n",
       "      <td>10</td>\n",
       "      <td>15</td>\n",
       "      <td>0.956552</td>\n",
       "    </tr>\n",
       "    <tr>\n",
       "      <th>37</th>\n",
       "      <td>31</td>\n",
       "      <td>10</td>\n",
       "      <td>25</td>\n",
       "      <td>0.956354</td>\n",
       "    </tr>\n",
       "    <tr>\n",
       "      <th>56</th>\n",
       "      <td>38</td>\n",
       "      <td>10</td>\n",
       "      <td>45</td>\n",
       "      <td>0.956255</td>\n",
       "    </tr>\n",
       "    <tr>\n",
       "      <th>...</th>\n",
       "      <td>...</td>\n",
       "      <td>...</td>\n",
       "      <td>...</td>\n",
       "      <td>...</td>\n",
       "    </tr>\n",
       "    <tr>\n",
       "      <th>7</th>\n",
       "      <td>8</td>\n",
       "      <td>32</td>\n",
       "      <td>25</td>\n",
       "      <td>0.873824</td>\n",
       "    </tr>\n",
       "    <tr>\n",
       "      <th>10</th>\n",
       "      <td>8</td>\n",
       "      <td>52</td>\n",
       "      <td>25</td>\n",
       "      <td>0.873775</td>\n",
       "    </tr>\n",
       "    <tr>\n",
       "      <th>11</th>\n",
       "      <td>8</td>\n",
       "      <td>52</td>\n",
       "      <td>45</td>\n",
       "      <td>0.873735</td>\n",
       "    </tr>\n",
       "    <tr>\n",
       "      <th>8</th>\n",
       "      <td>8</td>\n",
       "      <td>32</td>\n",
       "      <td>45</td>\n",
       "      <td>0.873467</td>\n",
       "    </tr>\n",
       "    <tr>\n",
       "      <th>17</th>\n",
       "      <td>8</td>\n",
       "      <td>80</td>\n",
       "      <td>45</td>\n",
       "      <td>0.873199</td>\n",
       "    </tr>\n",
       "  </tbody>\n",
       "</table>\n",
       "<p>72 rows × 4 columns</p>\n",
       "</div>"
      ],
      "text/plain": [
       "    max_depth  min_samples_split  n_estimators  mean_test_score\n",
       "38         31                 10            45         0.957217\n",
       "54         38                 10            15         0.956632\n",
       "36         31                 10            15         0.956552\n",
       "37         31                 10            25         0.956354\n",
       "56         38                 10            45         0.956255\n",
       "..        ...                ...           ...              ...\n",
       "7           8                 32            25         0.873824\n",
       "10          8                 52            25         0.873775\n",
       "11          8                 52            45         0.873735\n",
       "8           8                 32            45         0.873467\n",
       "17          8                 80            45         0.873199\n",
       "\n",
       "[72 rows x 4 columns]"
      ]
     },
     "execution_count": 22,
     "metadata": {},
     "output_type": "execute_result"
    }
   ],
   "source": [
    "algorithm = RandomForestClassifier(random_state=seed)\n",
    "parameters = {'n_estimators':[15,25,45],\n",
    "              'max_depth' :[8,12,31,38],\n",
    "             'min_samples_split':[10,16,32,52,60,80]}\n",
    "\n",
    "df_grid= GridSearchCV(algorithm, param_grid = parameters, cv=5, n_jobs=-1)\n",
    "\n",
    "df_grid.fit(x_train, y_train)\n",
    "\n",
    "result = pd.DataFrame(df_grid.cv_results_['params'])\n",
    "result['mean_test_score']= df_grid.cv_results_['mean_test_score']\n",
    "result.sort_values(by='mean_test_score', ascending=False)\n",
    "#mean_test_score이 젤 좋은 것"
   ]
  },
  {
   "cell_type": "code",
   "execution_count": 24,
   "id": "bade30da-f328-411d-a9c9-77848c444594",
   "metadata": {},
   "outputs": [],
   "source": [
    "algorithm = RandomForestClassifier(max_depth=31, min_samples_split=10, n_estimators=45)"
   ]
  },
  {
   "cell_type": "code",
   "execution_count": 26,
   "id": "98c3d664-3a24-4339-8b3a-92f42ac702c7",
   "metadata": {},
   "outputs": [],
   "source": [
    "def default_model(algorithm, x_train, y_train, x_test, y_test):\n",
    "    model_1=algorithm\n",
    "    model_1.fit(x_train,y_train) #학습\n",
    "    default_trainScore = model_1.score(x_train, y_train)\n",
    "    default_testScore = model_1.score(x_test, y_test)\n",
    "    pred_1= model_1.predict(x_test)\n",
    "    print(\"학습 데이터셋 정확도: \", default_trainScore)\n",
    "    print(\"테스트 데이터셋 정확도: \", default_testScore)\n",
    "    print(\"혼돈행렬: \", confusion_matrix(y_test,pred_1))\n",
    "    print(\"Accuracy \",accuracy_score(y_test, pred_1))\n",
    "    print(\"Precision \",precision_score(y_test, pred_1))\n",
    "    print(\"Recall Score \",recall_score(y_test, pred_1))\n",
    "    print(\"F1 Score \",f1_score(y_test, pred_1))\n",
    "    print(\"Balanced Accuracy Score \",balanced_accuracy_score(y_test, pred_1))"
   ]
  },
  {
   "cell_type": "code",
   "execution_count": 27,
   "id": "c87e4ebd-fa6d-46c3-8761-f3f7b9499129",
   "metadata": {},
   "outputs": [
    {
     "name": "stdout",
     "output_type": "stream",
     "text": [
      "학습 데이터셋 정확도:  0.9908917728300988\n",
      "테스트 데이터셋 정확도:  0.9573561754832736\n",
      "혼돈행렬:  [[32384   170]\n",
      " [ 1672  8969]]\n",
      "Accuracy  0.9573561754832736\n",
      "Precision  0.981398402451034\n",
      "Recall Score  0.8428719105347242\n",
      "F1 Score  0.9068756319514661\n",
      "Balanced Accuracy Score  0.918824909005766\n"
     ]
    }
   ],
   "source": [
    "default_model(algorithm, x_train, y_train, x_test, y_test)"
   ]
  },
  {
   "cell_type": "code",
   "execution_count": null,
   "id": "526424a8-5216-468a-af23-be33c3a29253",
   "metadata": {},
   "outputs": [],
   "source": []
  }
 ],
 "metadata": {
  "kernelspec": {
   "display_name": "Python 3 (ipykernel)",
   "language": "python",
   "name": "python3"
  },
  "language_info": {
   "codemirror_mode": {
    "name": "ipython",
    "version": 3
   },
   "file_extension": ".py",
   "mimetype": "text/x-python",
   "name": "python",
   "nbconvert_exporter": "python",
   "pygments_lexer": "ipython3",
   "version": "3.9.7"
  }
 },
 "nbformat": 4,
 "nbformat_minor": 5
}
