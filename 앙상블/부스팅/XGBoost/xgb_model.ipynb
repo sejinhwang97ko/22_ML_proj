{
 "cells": [
  {
   "cell_type": "code",
   "execution_count": 7,
   "id": "7790e9c2",
   "metadata": {},
   "outputs": [],
   "source": [
    "from xgboost import XGBClassifier\n",
    "from sklearn.model_selection import GridSearchCV\n",
    "\n",
    "def xgb_model_init(X_train,y_train):\n",
    "    xgb_clf = XGBClassifier(objective='binary:logistic', eval_metric='auc')\n",
    "    xgb_clf.fit(X_train,y_train)\n",
    "    \n",
    "    return xgb_clf\n",
    "\n",
    "def xgb_model_tuned(X_train,y_train):\n",
    "    grid_search = {\n",
    "               'max_depth': [5,8,10],\n",
    "               'min_child_weight': [4],\n",
    "               'learning_rate': [0.1,0.003,0.001],\n",
    "               'n_estimators': [50,100]}\n",
    "    clf = XGBClassifier(objective='binary:logistic', eval_metric='auc')\n",
    "    grid = GridSearchCV(estimator = clf, param_grid = grid_search, \n",
    "                               cv = 4, verbose= 5, n_jobs = -1)\n",
    "    grid.fit(X_train,y_train)\n",
    "    \n",
    "    xgb_model=grid.best_estimator_\n",
    "    return xgb_model"
   ]
  }
 ],
 "metadata": {
  "kernelspec": {
   "display_name": "Python 3 (ipykernel)",
   "language": "python",
   "name": "python3"
  },
  "language_info": {
   "codemirror_mode": {
    "name": "ipython",
    "version": 3
   },
   "file_extension": ".py",
   "mimetype": "text/x-python",
   "name": "python",
   "nbconvert_exporter": "python",
   "pygments_lexer": "ipython3",
   "version": "3.8.13"
  }
 },
 "nbformat": 4,
 "nbformat_minor": 5
}
