{
 "cells": [
  {
   "cell_type": "code",
   "execution_count": 5,
   "id": "da977439-a29d-4e63-a1b1-8af3721197bd",
   "metadata": {},
   "outputs": [],
   "source": [
    "from sklearn.ensemble import RandomForestClassifier\n",
    "from sklearn.model_selection import GridSearchCV\n",
    "\n",
    "\n",
    "def rf_model_init(X_train,y_train):\n",
    "    rf_clf=RandomForestClassifier()\n",
    "    rf_clf.fit(X_train,y_train)\n",
    "    \n",
    "    return rf_clf\n",
    "\n",
    "def rf_model_tuned(X_train,y_train):\n",
    "    grid_search = {'n_estimators':[15,25,45],\n",
    "              'max_depth' :[31,38],\n",
    "              'min_samples_split' :[116,188,194]}\n",
    "    clf=RandomForestClassifier()\n",
    "    grid=GridSearchCV(estimator = clf, param_grid=grid_search, cv=4,n_jobs=-1, verbose=5)\n",
    "    \n",
    "    grid.fit(X_train,y_train)\n",
    "    \n",
    "    rf_model=grid.best_estimator_\n",
    "    return rf_model\n",
    "\n",
    "\n",
    "\n"
   ]
  },
  {
   "cell_type": "code",
   "execution_count": null,
   "id": "8d4fc628",
   "metadata": {},
   "outputs": [],
   "source": []
  }
 ],
 "metadata": {
  "kernelspec": {
   "display_name": "Python 3 (ipykernel)",
   "language": "python",
   "name": "python3"
  },
  "language_info": {
   "codemirror_mode": {
    "name": "ipython",
    "version": 3
   },
   "file_extension": ".py",
   "mimetype": "text/x-python",
   "name": "python",
   "nbconvert_exporter": "python",
   "pygments_lexer": "ipython3",
   "version": "3.9.7"
  }
 },
 "nbformat": 4,
 "nbformat_minor": 5
}
